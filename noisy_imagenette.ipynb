{
 "cells": [
  {
   "cell_type": "code",
   "execution_count": 1,
   "metadata": {},
   "outputs": [
    {
     "name": "stdout",
     "output_type": "stream",
     "text": [
      "pct_noise: 1; epochs: 5; lr: 0.008; size: 256; sqrmom: 0.99; mom: 0.95; eps: 1e-06\n",
      "Run: 0\n",
      "epoch     train_loss  valid_loss  accuracy  top_k_accuracy  time    \n",
      "0         1.519466    1.524150    0.578853  0.920764        01:41      \n",
      "1         1.295486    1.241390    0.708790  0.957452        01:38      \n",
      "2         1.142549    1.192845    0.724841  0.972229        01:38      \n",
      "3         1.054950    0.990376    0.809682  0.983185        01:38      \n",
      "4         0.938423    0.880815    0.861401  0.988535        01:40      \n"
     ]
    }
   ],
   "source": [
    "!python train_noisy_imagenette.py --woof 0 --pct_noise 1 --size 256 --epochs 5 --lr 8e-3 --sqrmom 0.99 --mom 0.95 --eps 1e-6 --bs 64 --opt ranger --sa --fp16 --arch xse_resnext50 --pool MaxPool --gpu 0"
   ]
  }
 ],
 "metadata": {
  "kernelspec": {
   "display_name": "Python 3",
   "language": "python",
   "name": "python3"
  },
  "language_info": {
   "codemirror_mode": {
    "name": "ipython",
    "version": 3
   },
   "file_extension": ".py",
   "mimetype": "text/x-python",
   "name": "python",
   "nbconvert_exporter": "python",
   "pygments_lexer": "ipython3",
   "version": "3.7.5"
  }
 },
 "nbformat": 4,
 "nbformat_minor": 4
}
