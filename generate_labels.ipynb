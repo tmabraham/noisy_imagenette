{
 "cells": [
  {
   "cell_type": "markdown",
   "metadata": {},
   "source": [
    "# **Generating Noisy Label Image(nette/woof) dataset**\n",
    "Tanishq Abraham, 12/28/2020"
   ]
  },
  {
   "cell_type": "markdown",
   "metadata": {},
   "source": [
    "# imports"
   ]
  },
  {
   "cell_type": "code",
   "execution_count": 1,
   "metadata": {},
   "outputs": [],
   "source": [
    "from fastai.vision.all import *\n",
    "set_seed(42,reproducible=True)"
   ]
  },
  {
   "cell_type": "markdown",
   "metadata": {},
   "source": [
    "# funcs"
   ]
  },
  {
   "cell_type": "code",
   "execution_count": 2,
   "metadata": {},
   "outputs": [],
   "source": [
    "def get_labels(files):\n",
    "    labels = []\n",
    "    for file in files: labels.append(parent_label(file))\n",
    "    return labels"
   ]
  },
  {
   "cell_type": "code",
   "execution_count": 3,
   "metadata": {},
   "outputs": [],
   "source": [
    "def generate_noisy_labels(labels,unique_labels,pct_noise):\n",
    "    noisy_labels = labels.copy()\n",
    "    num_labels = len(labels)\n",
    "    num_classes = len(unique_labels)\n",
    "    noisy_idxs = []\n",
    "    indices = np.random.permutation(num_labels)\n",
    "    for i, idx in enumerate(indices):\n",
    "        if i < pct_noise * num_labels:\n",
    "            noisy_idxs.append(idx)\n",
    "            before_label = noisy_labels[idx]\n",
    "            while noisy_labels[idx] == before_label:\n",
    "                new_label = unique_labels[np.random.randint(num_classes)]\n",
    "                noisy_labels[idx] = new_label  \n",
    "    return noisy_labels, noisy_idxs"
   ]
  },
  {
   "cell_type": "code",
   "execution_count": 4,
   "metadata": {},
   "outputs": [],
   "source": [
    "def get_imagenette_relative_path(files):\n",
    "    _files = []\n",
    "    for i in range(len(files)): _files.append(os.path.join(*str(files[i]).split('/')[-3:]))\n",
    "    return _files"
   ]
  },
  {
   "cell_type": "markdown",
   "metadata": {},
   "source": [
    "# load imagenette data"
   ]
  },
  {
   "cell_type": "code",
   "execution_count": 5,
   "metadata": {},
   "outputs": [],
   "source": [
    "source = untar_data(URLs.IMAGENETTE_320)"
   ]
  },
  {
   "cell_type": "code",
   "execution_count": 6,
   "metadata": {},
   "outputs": [],
   "source": [
    "train_files = get_image_files(source/'train')"
   ]
  },
  {
   "cell_type": "code",
   "execution_count": 7,
   "metadata": {},
   "outputs": [],
   "source": [
    "labels = get_labels(train_files)\n",
    "unique_labels = list(set(labels))"
   ]
  },
  {
   "cell_type": "markdown",
   "metadata": {},
   "source": [
    "# create noisy labels for imagenette"
   ]
  },
  {
   "cell_type": "code",
   "execution_count": 8,
   "metadata": {},
   "outputs": [],
   "source": [
    "noisy_labels_1, noisy_idxs_1 = generate_noisy_labels(labels, unique_labels, 0.01)"
   ]
  },
  {
   "cell_type": "code",
   "execution_count": 9,
   "metadata": {},
   "outputs": [
    {
     "name": "stdout",
     "output_type": "stream",
     "text": [
      "percentage noise: 1.0032738409546942%\n"
     ]
    }
   ],
   "source": [
    "print(f'percentage noise: {100*len(noisy_idxs_1)/len(noisy_labels_1)}%')"
   ]
  },
  {
   "cell_type": "code",
   "execution_count": 10,
   "metadata": {},
   "outputs": [
    {
     "name": "stdout",
     "output_type": "stream",
     "text": [
      "n03394916 n03000684\n"
     ]
    }
   ],
   "source": [
    "example_idx = np.random.randint(len(noisy_idxs_1))\n",
    "print(noisy_labels_1[noisy_idxs_1[example_idx]], labels[noisy_idxs_1[example_idx]])"
   ]
  },
  {
   "cell_type": "code",
   "execution_count": 11,
   "metadata": {},
   "outputs": [],
   "source": [
    "noisy_labels_5, noisy_idxs_5 = generate_noisy_labels(labels, unique_labels, 0.05)\n",
    "noisy_labels_25, noisy_idxs_25 = generate_noisy_labels(labels, unique_labels, 0.25)\n",
    "noisy_labels_50, noisy_idxs_50 = generate_noisy_labels(labels, unique_labels, 0.50)"
   ]
  },
  {
   "cell_type": "code",
   "execution_count": 12,
   "metadata": {},
   "outputs": [],
   "source": [
    "_files = get_imagenette_relative_path(train_files)"
   ]
  },
  {
   "cell_type": "code",
   "execution_count": 13,
   "metadata": {},
   "outputs": [],
   "source": [
    "train_df = pd.DataFrame({'path': _files, \n",
    "              'noisy_labels_1': noisy_labels_1, \n",
    "              'noisy_labels_5': noisy_labels_5, \n",
    "              'noisy_labels_25': noisy_labels_25,\n",
    "              'noisy_labels_50': noisy_labels_50,\n",
    "              'is_valid': [False]*len(_files)\n",
    "             })"
   ]
  },
  {
   "cell_type": "code",
   "execution_count": 14,
   "metadata": {},
   "outputs": [],
   "source": [
    "val_files = get_image_files(source/'val')"
   ]
  },
  {
   "cell_type": "code",
   "execution_count": 15,
   "metadata": {},
   "outputs": [],
   "source": [
    "labels = get_labels(val_files)\n",
    "_files = get_imagenette_relative_path(val_files)"
   ]
  },
  {
   "cell_type": "code",
   "execution_count": 16,
   "metadata": {},
   "outputs": [],
   "source": [
    "val_df = pd.DataFrame({'path': _files, \n",
    "              'noisy_labels_1': labels, \n",
    "              'noisy_labels_5': labels, \n",
    "              'noisy_labels_25': labels,\n",
    "              'noisy_labels_50': labels,\n",
    "              'is_valid': [True]*len(_files)\n",
    "             })"
   ]
  },
  {
   "cell_type": "code",
   "execution_count": 17,
   "metadata": {},
   "outputs": [],
   "source": [
    "df = pd.concat([train_df,val_df])"
   ]
  },
  {
   "cell_type": "code",
   "execution_count": 18,
   "metadata": {},
   "outputs": [
    {
     "data": {
      "text/html": [
       "<div>\n",
       "<style scoped>\n",
       "    .dataframe tbody tr th:only-of-type {\n",
       "        vertical-align: middle;\n",
       "    }\n",
       "\n",
       "    .dataframe tbody tr th {\n",
       "        vertical-align: top;\n",
       "    }\n",
       "\n",
       "    .dataframe thead th {\n",
       "        text-align: right;\n",
       "    }\n",
       "</style>\n",
       "<table border=\"1\" class=\"dataframe\">\n",
       "  <thead>\n",
       "    <tr style=\"text-align: right;\">\n",
       "      <th></th>\n",
       "      <th>path</th>\n",
       "      <th>noisy_labels_1</th>\n",
       "      <th>noisy_labels_5</th>\n",
       "      <th>noisy_labels_25</th>\n",
       "      <th>noisy_labels_50</th>\n",
       "      <th>is_valid</th>\n",
       "    </tr>\n",
       "  </thead>\n",
       "  <tbody>\n",
       "    <tr>\n",
       "      <th>0</th>\n",
       "      <td>train/n02979186/n02979186_9036.JPEG</td>\n",
       "      <td>n02979186</td>\n",
       "      <td>n02979186</td>\n",
       "      <td>n02979186</td>\n",
       "      <td>n02979186</td>\n",
       "      <td>False</td>\n",
       "    </tr>\n",
       "    <tr>\n",
       "      <th>1</th>\n",
       "      <td>train/n02979186/n02979186_11957.JPEG</td>\n",
       "      <td>n02979186</td>\n",
       "      <td>n02979186</td>\n",
       "      <td>n02979186</td>\n",
       "      <td>n03000684</td>\n",
       "      <td>False</td>\n",
       "    </tr>\n",
       "    <tr>\n",
       "      <th>2</th>\n",
       "      <td>train/n02979186/n02979186_9715.JPEG</td>\n",
       "      <td>n02979186</td>\n",
       "      <td>n02979186</td>\n",
       "      <td>n03417042</td>\n",
       "      <td>n03000684</td>\n",
       "      <td>False</td>\n",
       "    </tr>\n",
       "    <tr>\n",
       "      <th>3</th>\n",
       "      <td>train/n02979186/n02979186_21736.JPEG</td>\n",
       "      <td>n02979186</td>\n",
       "      <td>n02979186</td>\n",
       "      <td>n02979186</td>\n",
       "      <td>n03417042</td>\n",
       "      <td>False</td>\n",
       "    </tr>\n",
       "    <tr>\n",
       "      <th>4</th>\n",
       "      <td>train/n02979186/ILSVRC2012_val_00046953.JPEG</td>\n",
       "      <td>n02979186</td>\n",
       "      <td>n02979186</td>\n",
       "      <td>n02979186</td>\n",
       "      <td>n03394916</td>\n",
       "      <td>False</td>\n",
       "    </tr>\n",
       "  </tbody>\n",
       "</table>\n",
       "</div>"
      ],
      "text/plain": [
       "                                           path noisy_labels_1 noisy_labels_5  \\\n",
       "0           train/n02979186/n02979186_9036.JPEG      n02979186      n02979186   \n",
       "1          train/n02979186/n02979186_11957.JPEG      n02979186      n02979186   \n",
       "2           train/n02979186/n02979186_9715.JPEG      n02979186      n02979186   \n",
       "3          train/n02979186/n02979186_21736.JPEG      n02979186      n02979186   \n",
       "4  train/n02979186/ILSVRC2012_val_00046953.JPEG      n02979186      n02979186   \n",
       "\n",
       "  noisy_labels_25 noisy_labels_50  is_valid  \n",
       "0       n02979186       n02979186     False  \n",
       "1       n02979186       n03000684     False  \n",
       "2       n03417042       n03000684     False  \n",
       "3       n02979186       n03417042     False  \n",
       "4       n02979186       n03394916     False  "
      ]
     },
     "execution_count": 18,
     "metadata": {},
     "output_type": "execute_result"
    }
   ],
   "source": [
    "df.head()"
   ]
  },
  {
   "cell_type": "code",
   "execution_count": 19,
   "metadata": {},
   "outputs": [],
   "source": [
    "df.to_csv('noisy_imagenette.csv', index=False)"
   ]
  },
  {
   "cell_type": "markdown",
   "metadata": {},
   "source": [
    "# load imagewoof data"
   ]
  },
  {
   "cell_type": "code",
   "execution_count": 20,
   "metadata": {},
   "outputs": [],
   "source": [
    "source = untar_data(URLs.IMAGEWOOF_320)"
   ]
  },
  {
   "cell_type": "code",
   "execution_count": 21,
   "metadata": {},
   "outputs": [],
   "source": [
    "train_files = get_image_files(source/'train')"
   ]
  },
  {
   "cell_type": "code",
   "execution_count": 22,
   "metadata": {},
   "outputs": [],
   "source": [
    "labels = get_labels(train_files)\n",
    "unique_labels = list(set(labels))"
   ]
  },
  {
   "cell_type": "markdown",
   "metadata": {},
   "source": [
    "# create noisy labels for imagewoof"
   ]
  },
  {
   "cell_type": "code",
   "execution_count": 23,
   "metadata": {},
   "outputs": [],
   "source": [
    "noisy_labels_1, noisy_idxs_1 = generate_noisy_labels(labels, unique_labels, 0.01)"
   ]
  },
  {
   "cell_type": "code",
   "execution_count": 24,
   "metadata": {},
   "outputs": [
    {
     "name": "stdout",
     "output_type": "stream",
     "text": [
      "percentage noise: 1.0083102493074791%\n"
     ]
    }
   ],
   "source": [
    "print(f'percentage noise: {100*len(noisy_idxs_1)/len(noisy_labels_1)}%')"
   ]
  },
  {
   "cell_type": "code",
   "execution_count": 25,
   "metadata": {},
   "outputs": [
    {
     "name": "stdout",
     "output_type": "stream",
     "text": [
      "n02089973 n02087394\n"
     ]
    }
   ],
   "source": [
    "example_idx = np.random.randint(len(noisy_idxs_1))\n",
    "print(noisy_labels_1[noisy_idxs_1[example_idx]], labels[noisy_idxs_1[example_idx]])"
   ]
  },
  {
   "cell_type": "code",
   "execution_count": 26,
   "metadata": {},
   "outputs": [],
   "source": [
    "noisy_labels_5, noisy_idxs_5 = generate_noisy_labels(labels, unique_labels, 0.05)\n",
    "noisy_labels_25, noisy_idxs_25 = generate_noisy_labels(labels, unique_labels, 0.25)\n",
    "noisy_labels_50, noisy_idxs_50 = generate_noisy_labels(labels, unique_labels, 0.50)"
   ]
  },
  {
   "cell_type": "code",
   "execution_count": 27,
   "metadata": {},
   "outputs": [],
   "source": [
    "_files = get_imagenette_relative_path(train_files)"
   ]
  },
  {
   "cell_type": "code",
   "execution_count": 28,
   "metadata": {},
   "outputs": [],
   "source": [
    "train_df = pd.DataFrame({'path': _files, \n",
    "              'noisy_labels_1': noisy_labels_1, \n",
    "              'noisy_labels_5': noisy_labels_5, \n",
    "              'noisy_labels_25': noisy_labels_25,\n",
    "              'noisy_labels_50': noisy_labels_50,\n",
    "              'is_valid': [False]*len(_files)\n",
    "             })"
   ]
  },
  {
   "cell_type": "code",
   "execution_count": 29,
   "metadata": {},
   "outputs": [],
   "source": [
    "val_files = get_image_files(source/'val')"
   ]
  },
  {
   "cell_type": "code",
   "execution_count": 30,
   "metadata": {},
   "outputs": [],
   "source": [
    "labels = get_labels(val_files)\n",
    "_files = get_imagenette_relative_path(val_files)"
   ]
  },
  {
   "cell_type": "code",
   "execution_count": 31,
   "metadata": {},
   "outputs": [],
   "source": [
    "val_df = pd.DataFrame({'path': _files, \n",
    "              'noisy_labels_1': labels, \n",
    "              'noisy_labels_5': labels, \n",
    "              'noisy_labels_25': labels,\n",
    "              'noisy_labels_50': labels,\n",
    "              'is_valid': [True]*len(_files)\n",
    "             })"
   ]
  },
  {
   "cell_type": "code",
   "execution_count": 32,
   "metadata": {},
   "outputs": [],
   "source": [
    "df = pd.concat([train_df,val_df])"
   ]
  },
  {
   "cell_type": "code",
   "execution_count": 33,
   "metadata": {},
   "outputs": [
    {
     "data": {
      "text/html": [
       "<div>\n",
       "<style scoped>\n",
       "    .dataframe tbody tr th:only-of-type {\n",
       "        vertical-align: middle;\n",
       "    }\n",
       "\n",
       "    .dataframe tbody tr th {\n",
       "        vertical-align: top;\n",
       "    }\n",
       "\n",
       "    .dataframe thead th {\n",
       "        text-align: right;\n",
       "    }\n",
       "</style>\n",
       "<table border=\"1\" class=\"dataframe\">\n",
       "  <thead>\n",
       "    <tr style=\"text-align: right;\">\n",
       "      <th></th>\n",
       "      <th>path</th>\n",
       "      <th>noisy_labels_1</th>\n",
       "      <th>noisy_labels_5</th>\n",
       "      <th>noisy_labels_25</th>\n",
       "      <th>noisy_labels_50</th>\n",
       "      <th>is_valid</th>\n",
       "    </tr>\n",
       "  </thead>\n",
       "  <tbody>\n",
       "    <tr>\n",
       "      <th>0</th>\n",
       "      <td>train/n02115641/n02115641_3995.JPEG</td>\n",
       "      <td>n02115641</td>\n",
       "      <td>n02115641</td>\n",
       "      <td>n02115641</td>\n",
       "      <td>n02115641</td>\n",
       "      <td>False</td>\n",
       "    </tr>\n",
       "    <tr>\n",
       "      <th>1</th>\n",
       "      <td>train/n02115641/n02115641_843.JPEG</td>\n",
       "      <td>n02115641</td>\n",
       "      <td>n02105641</td>\n",
       "      <td>n02115641</td>\n",
       "      <td>n02088364</td>\n",
       "      <td>False</td>\n",
       "    </tr>\n",
       "    <tr>\n",
       "      <th>2</th>\n",
       "      <td>train/n02115641/n02115641_2953.JPEG</td>\n",
       "      <td>n02115641</td>\n",
       "      <td>n02115641</td>\n",
       "      <td>n02111889</td>\n",
       "      <td>n02099601</td>\n",
       "      <td>False</td>\n",
       "    </tr>\n",
       "    <tr>\n",
       "      <th>3</th>\n",
       "      <td>train/n02115641/n02115641_6458.JPEG</td>\n",
       "      <td>n02115641</td>\n",
       "      <td>n02115641</td>\n",
       "      <td>n02093754</td>\n",
       "      <td>n02115641</td>\n",
       "      <td>False</td>\n",
       "    </tr>\n",
       "    <tr>\n",
       "      <th>4</th>\n",
       "      <td>train/n02115641/n02115641_19414.JPEG</td>\n",
       "      <td>n02115641</td>\n",
       "      <td>n02115641</td>\n",
       "      <td>n02115641</td>\n",
       "      <td>n02088364</td>\n",
       "      <td>False</td>\n",
       "    </tr>\n",
       "  </tbody>\n",
       "</table>\n",
       "</div>"
      ],
      "text/plain": [
       "                                   path noisy_labels_1 noisy_labels_5  \\\n",
       "0   train/n02115641/n02115641_3995.JPEG      n02115641      n02115641   \n",
       "1    train/n02115641/n02115641_843.JPEG      n02115641      n02105641   \n",
       "2   train/n02115641/n02115641_2953.JPEG      n02115641      n02115641   \n",
       "3   train/n02115641/n02115641_6458.JPEG      n02115641      n02115641   \n",
       "4  train/n02115641/n02115641_19414.JPEG      n02115641      n02115641   \n",
       "\n",
       "  noisy_labels_25 noisy_labels_50  is_valid  \n",
       "0       n02115641       n02115641     False  \n",
       "1       n02115641       n02088364     False  \n",
       "2       n02111889       n02099601     False  \n",
       "3       n02093754       n02115641     False  \n",
       "4       n02115641       n02088364     False  "
      ]
     },
     "execution_count": 33,
     "metadata": {},
     "output_type": "execute_result"
    }
   ],
   "source": [
    "df.head()"
   ]
  },
  {
   "cell_type": "code",
   "execution_count": 34,
   "metadata": {},
   "outputs": [],
   "source": [
    "df.to_csv('noisy_imagewoof.csv', index=False)"
   ]
  }
 ],
 "metadata": {
  "kernelspec": {
   "display_name": "Python 3",
   "language": "python",
   "name": "python3"
  },
  "language_info": {
   "codemirror_mode": {
    "name": "ipython",
    "version": 3
   },
   "file_extension": ".py",
   "mimetype": "text/x-python",
   "name": "python",
   "nbconvert_exporter": "python",
   "pygments_lexer": "ipython3",
   "version": "3.7.5"
  }
 },
 "nbformat": 4,
 "nbformat_minor": 4
}
